{
 "cells": [
  {
   "cell_type": "code",
   "execution_count": 1,
   "id": "87ba944b",
   "metadata": {},
   "outputs": [
    {
     "name": "stdout",
     "output_type": "stream",
     "text": [
      "(3, 6, 4, 7, 2)\n"
     ]
    }
   ],
   "source": [
    "tuple1 = (3,6,4,7,2)\n",
    "print(tuple1)"
   ]
  },
  {
   "cell_type": "code",
   "execution_count": 2,
   "id": "53031eed",
   "metadata": {},
   "outputs": [
    {
     "name": "stdout",
     "output_type": "stream",
     "text": [
      "5\n"
     ]
    }
   ],
   "source": [
    "l = len(tuple1)\n",
    "print(l)"
   ]
  },
  {
   "cell_type": "code",
   "execution_count": 3,
   "id": "0881a710",
   "metadata": {},
   "outputs": [
    {
     "name": "stdout",
     "output_type": "stream",
     "text": [
      "7\n"
     ]
    }
   ],
   "source": [
    "print(max(tuple1))"
   ]
  },
  {
   "cell_type": "code",
   "execution_count": 4,
   "id": "1f57093d",
   "metadata": {},
   "outputs": [
    {
     "name": "stdout",
     "output_type": "stream",
     "text": [
      "2\n"
     ]
    }
   ],
   "source": [
    "print(min(tuple1))"
   ]
  },
  {
   "cell_type": "code",
   "execution_count": 5,
   "id": "7281619e",
   "metadata": {},
   "outputs": [
    {
     "name": "stdout",
     "output_type": "stream",
     "text": [
      "{101: 'Python', 102: 'SQL', 103: 'Tableau'}\n"
     ]
    }
   ],
   "source": [
    "dict1 = {101:'Python',102:'SQL',103:'Tableau'}\n",
    "print(dict1)"
   ]
  },
  {
   "cell_type": "code",
   "execution_count": 6,
   "id": "17cac663",
   "metadata": {},
   "outputs": [
    {
     "name": "stdout",
     "output_type": "stream",
     "text": [
      "SQL\n"
     ]
    }
   ],
   "source": [
    "a = dict1.get(102)\n",
    "print(a)"
   ]
  },
  {
   "cell_type": "code",
   "execution_count": 8,
   "id": "517287b9",
   "metadata": {},
   "outputs": [
    {
     "name": "stdout",
     "output_type": "stream",
     "text": [
      "None\n"
     ]
    }
   ],
   "source": [
    "a = dict1.get(105)\n",
    "print(a)"
   ]
  },
  {
   "cell_type": "code",
   "execution_count": 9,
   "id": "97f15142",
   "metadata": {},
   "outputs": [
    {
     "name": "stdout",
     "output_type": "stream",
     "text": [
      "{101: 'Python', 102: 'SQL', 103: 'Tableau', 104: 'Power BI'}\n"
     ]
    }
   ],
   "source": [
    "d2 = {104:'Power BI'}\n",
    "dict1.update(d2)\n",
    "print(dict1)"
   ]
  },
  {
   "cell_type": "code",
   "execution_count": 10,
   "id": "d908767a",
   "metadata": {},
   "outputs": [
    {
     "name": "stdout",
     "output_type": "stream",
     "text": [
      "{}\n"
     ]
    }
   ],
   "source": [
    "d2.clear()\n",
    "print(d2)"
   ]
  },
  {
   "cell_type": "code",
   "execution_count": 11,
   "id": "236ca067",
   "metadata": {},
   "outputs": [
    {
     "name": "stdout",
     "output_type": "stream",
     "text": [
      "{101: 'Python', 102: 'SQL', 103: 'Tableau', 104: 'Power BI'}\n"
     ]
    }
   ],
   "source": [
    "print(dict1)"
   ]
  },
  {
   "cell_type": "code",
   "execution_count": 14,
   "id": "501d4cc1",
   "metadata": {},
   "outputs": [],
   "source": [
    "num = -5\n",
    "if (num > 0):\n",
    "    print(\"Number is positive number.\")\n",
    "print('Thank you')"
   ]
  },
  {
   "cell_type": "code",
   "execution_count": 15,
   "id": "745ff0a7",
   "metadata": {},
   "outputs": [
    {
     "name": "stdout",
     "output_type": "stream",
     "text": [
      "Enter a number5\n",
      "Number is odd number\n"
     ]
    }
   ],
   "source": [
    "num = int(input('Enter a number'))\n",
    "if(num % 2 == 0):\n",
    "    print('Number is even number')\n",
    "else:\n",
    "    print('Number is odd number.')"
   ]
  },
  {
   "cell_type": "code",
   "execution_count": 17,
   "id": "7c7abccb",
   "metadata": {},
   "outputs": [
    {
     "name": "stdout",
     "output_type": "stream",
     "text": [
      "Enter a number0\n",
      "Zero\n"
     ]
    }
   ],
   "source": [
    "num = int(input('Enter a number'))\n",
    "if(num>0):\n",
    "    print('Number is positive number.')\n",
    "elif(num<0):\n",
    "    print('Number is negative number.')\n",
    "else:\n",
    "    print('Zero')"
   ]
  },
  {
   "cell_type": "code",
   "execution_count": 18,
   "id": "7db9bb72",
   "metadata": {},
   "outputs": [
    {
     "name": "stdout",
     "output_type": "stream",
     "text": [
      "Enter a number15\n",
      "2\t4\t6\t8\t10\t12\t14\t"
     ]
    }
   ],
   "source": [
    "n = int(input('Enter a number'))\n",
    "x = 1\n",
    "while x<=n:\n",
    "    if x%2==0:\n",
    "        print(x, end ='\\t')\n",
    "    x += 1\n"
   ]
  },
  {
   "cell_type": "code",
   "execution_count": 19,
   "id": "3a53e832",
   "metadata": {},
   "outputs": [
    {
     "name": "stdout",
     "output_type": "stream",
     "text": [
      "1\t2\t3\t4\t5\t6\t7\t8\t9\t10\t11\t12\t\n",
      "\n",
      "2\t4\t6\t8\t10\t12\t14\t16\t18\t20\t22\t24\t\n",
      "\n",
      "3\t6\t9\t12\t15\t18\t21\t24\t27\t30\t33\t36\t\n",
      "\n",
      "4\t8\t12\t16\t20\t24\t28\t32\t36\t40\t44\t48\t\n",
      "\n"
     ]
    }
   ],
   "source": [
    "i = 1\n",
    "while i<= 4:\n",
    "    j = 1\n",
    "    while j<= 12:\n",
    "        print(i*j, end = '\\t')\n",
    "        j+=1\n",
    "    i+=1\n",
    "    print('\\n')"
   ]
  },
  {
   "cell_type": "code",
   "execution_count": 20,
   "id": "f4e3398a",
   "metadata": {},
   "outputs": [
    {
     "name": "stdout",
     "output_type": "stream",
     "text": [
      "Enter a number10\n",
      "Sum is : 55\n"
     ]
    }
   ],
   "source": [
    "n = int(input('Enter a number'))\n",
    "sum = 0\n",
    "for x in range(1,n+1,1):\n",
    "    sum = sum + x\n",
    "print('Sum is :',sum)"
   ]
  },
  {
   "cell_type": "code",
   "execution_count": 21,
   "id": "848ed574",
   "metadata": {},
   "outputs": [
    {
     "name": "stdout",
     "output_type": "stream",
     "text": [
      "hello\n",
      "world\n",
      "python\n"
     ]
    }
   ],
   "source": [
    "l1 = ['hello','world','python']\n",
    "for i in range(len(l1)):\n",
    "    print(l1[i])"
   ]
  },
  {
   "cell_type": "code",
   "execution_count": 22,
   "id": "74670121",
   "metadata": {},
   "outputs": [
    {
     "name": "stdout",
     "output_type": "stream",
     "text": [
      "Python Beginners\n",
      "Python Intermediate\n",
      "Python Advanced\n",
      "DA Beginners\n",
      "DA Intermediate\n",
      "DA Advanced\n",
      "SQL Beginners\n",
      "SQL Intermediate\n",
      "SQL Advanced\n"
     ]
    }
   ],
   "source": [
    "sub = ['Python','DA','SQL']\n",
    "level =['Beginners','Intermediate','Advanced']\n",
    "\n",
    "for x in sub:\n",
    "    for y in level:\n",
    "        print(x,y)"
   ]
  },
  {
   "cell_type": "code",
   "execution_count": 26,
   "id": "6a19d15f",
   "metadata": {},
   "outputs": [
    {
     "name": "stdout",
     "output_type": "stream",
     "text": [
      "*\t\n",
      "*\t*\t\n",
      "*\t*\t*\t\n",
      "*\t*\t*\t*\t\n",
      "*\t*\t*\t*\t*\t\n"
     ]
    }
   ],
   "source": [
    "for r in range(1,6):\n",
    "    for c in range(1,r+1):\n",
    "        print('*',end='\\t')\n",
    "    print()"
   ]
  },
  {
   "cell_type": "code",
   "execution_count": 29,
   "id": "961f9422",
   "metadata": {},
   "outputs": [
    {
     "name": "stdout",
     "output_type": "stream",
     "text": [
      "Current character: P\n",
      "Current character: y\n",
      "Current character: t\n",
      "Current character: h\n",
      "Current character: o\n",
      "Current character: n\n"
     ]
    }
   ],
   "source": [
    "for char in 'Python':\n",
    "    if (char == 'h'):\n",
    "        pass\n",
    "    print('Current character:', char)"
   ]
  },
  {
   "cell_type": "code",
   "execution_count": null,
   "id": "0d3c0488",
   "metadata": {},
   "outputs": [],
   "source": []
  },
  {
   "cell_type": "code",
   "execution_count": null,
   "id": "a965a7c9",
   "metadata": {},
   "outputs": [],
   "source": []
  },
  {
   "cell_type": "code",
   "execution_count": null,
   "id": "ebf6da48",
   "metadata": {},
   "outputs": [],
   "source": []
  },
  {
   "cell_type": "code",
   "execution_count": null,
   "id": "dd0567e4",
   "metadata": {},
   "outputs": [],
   "source": []
  },
  {
   "cell_type": "code",
   "execution_count": null,
   "id": "566086a9",
   "metadata": {},
   "outputs": [],
   "source": []
  },
  {
   "cell_type": "code",
   "execution_count": null,
   "id": "35ea5fbe",
   "metadata": {},
   "outputs": [],
   "source": []
  },
  {
   "cell_type": "code",
   "execution_count": null,
   "id": "30f43cad",
   "metadata": {},
   "outputs": [],
   "source": []
  },
  {
   "cell_type": "code",
   "execution_count": null,
   "id": "7cc6e062",
   "metadata": {},
   "outputs": [],
   "source": []
  },
  {
   "cell_type": "code",
   "execution_count": null,
   "id": "4c04f8b5",
   "metadata": {},
   "outputs": [],
   "source": []
  },
  {
   "cell_type": "code",
   "execution_count": null,
   "id": "b7c229d9",
   "metadata": {},
   "outputs": [],
   "source": []
  },
  {
   "cell_type": "code",
   "execution_count": null,
   "id": "eefb9afc",
   "metadata": {},
   "outputs": [],
   "source": []
  }
 ],
 "metadata": {
  "kernelspec": {
   "display_name": "Python 3 (ipykernel)",
   "language": "python",
   "name": "python3"
  },
  "language_info": {
   "codemirror_mode": {
    "name": "ipython",
    "version": 3
   },
   "file_extension": ".py",
   "mimetype": "text/x-python",
   "name": "python",
   "nbconvert_exporter": "python",
   "pygments_lexer": "ipython3",
   "version": "3.9.7"
  }
 },
 "nbformat": 4,
 "nbformat_minor": 5
}
