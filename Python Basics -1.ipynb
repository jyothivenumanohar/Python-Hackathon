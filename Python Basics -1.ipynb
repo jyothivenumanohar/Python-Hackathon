{
 "cells": [
  {
   "cell_type": "markdown",
   "id": "ff417cae",
   "metadata": {},
   "source": [
    "# Variables"
   ]
  },
  {
   "cell_type": "code",
   "execution_count": 1,
   "id": "7867a4b9",
   "metadata": {},
   "outputs": [
    {
     "data": {
      "text/plain": [
       "(10, 20, 'John')"
      ]
     },
     "execution_count": 1,
     "metadata": {},
     "output_type": "execute_result"
    }
   ],
   "source": [
    "a=10\n",
    "b=20\n",
    "name='John'\n",
    "a,b,name"
   ]
  },
  {
   "cell_type": "code",
   "execution_count": 2,
   "id": "94307516",
   "metadata": {},
   "outputs": [
    {
     "data": {
      "text/plain": [
       "'John'"
      ]
     },
     "execution_count": 2,
     "metadata": {},
     "output_type": "execute_result"
    }
   ],
   "source": [
    "a\n",
    "b\n",
    "name"
   ]
  },
  {
   "cell_type": "code",
   "execution_count": 3,
   "id": "8bcea22d",
   "metadata": {},
   "outputs": [
    {
     "name": "stdout",
     "output_type": "stream",
     "text": [
      "10 20 John\n"
     ]
    }
   ],
   "source": [
    "print(a,b,name)"
   ]
  },
  {
   "cell_type": "code",
   "execution_count": 4,
   "id": "ff48a8df",
   "metadata": {},
   "outputs": [
    {
     "data": {
      "text/plain": [
       "(4, 6, 8)"
      ]
     },
     "execution_count": 4,
     "metadata": {},
     "output_type": "execute_result"
    }
   ],
   "source": [
    "# Unpacking\n",
    "p,q,r = 4,6,8\n",
    "p,q,r"
   ]
  },
  {
   "cell_type": "code",
   "execution_count": 41,
   "id": "01c7c558",
   "metadata": {},
   "outputs": [
    {
     "name": "stdout",
     "output_type": "stream",
     "text": [
      "4 6 8\n"
     ]
    }
   ],
   "source": [
    "print(p,q,r)"
   ]
  },
  {
   "cell_type": "markdown",
   "id": "f3632146",
   "metadata": {},
   "source": [
    "# Input function Examples\n"
   ]
  },
  {
   "cell_type": "code",
   "execution_count": 131,
   "id": "38a44634",
   "metadata": {},
   "outputs": [
    {
     "name": "stdout",
     "output_type": "stream",
     "text": [
      "Enter a number:20\n"
     ]
    },
    {
     "data": {
      "text/plain": [
       "'20'"
      ]
     },
     "execution_count": 131,
     "metadata": {},
     "output_type": "execute_result"
    }
   ],
   "source": [
    "a=input('Enter a number:')\n",
    "a"
   ]
  },
  {
   "cell_type": "code",
   "execution_count": 38,
   "id": "7f3fdfbd",
   "metadata": {},
   "outputs": [
    {
     "name": "stdout",
     "output_type": "stream",
     "text": [
      "Enter a number:John\n"
     ]
    },
    {
     "data": {
      "text/plain": [
       "'John'"
      ]
     },
     "execution_count": 38,
     "metadata": {},
     "output_type": "execute_result"
    }
   ],
   "source": [
    "# Input function Examples\n",
    "name=input('Enter a number:')\n",
    "name"
   ]
  },
  {
   "cell_type": "code",
   "execution_count": 35,
   "id": "b07dd1e3",
   "metadata": {},
   "outputs": [
    {
     "name": "stdout",
     "output_type": "stream",
     "text": [
      "Enter first number :20\n",
      "Enter second number :30\n",
      "2030\n"
     ]
    }
   ],
   "source": [
    "num1=input('Enter first number :')\n",
    "num2=input('Enter second number :')\n",
    "sum = num1 + num2\n",
    "print(sum)"
   ]
  },
  {
   "cell_type": "code",
   "execution_count": 36,
   "id": "48f95c98",
   "metadata": {},
   "outputs": [
    {
     "name": "stdout",
     "output_type": "stream",
     "text": [
      "Enter first number :12\n",
      "Enter second number :58\n",
      "70\n"
     ]
    }
   ],
   "source": [
    "num1=int(input('Enter first number :'))\n",
    "num2=int(input('Enter second number :'))\n",
    "sum = num1 + num2\n",
    "print(sum)"
   ]
  },
  {
   "cell_type": "markdown",
   "id": "2d8a2bb2",
   "metadata": {},
   "source": [
    "# Lists"
   ]
  },
  {
   "cell_type": "code",
   "execution_count": 17,
   "id": "56a697d7",
   "metadata": {},
   "outputs": [
    {
     "data": {
      "text/plain": [
       "['Physics', 'Maths', 2000, 2004]"
      ]
     },
     "execution_count": 17,
     "metadata": {},
     "output_type": "execute_result"
    }
   ],
   "source": [
    "# Lists Examples\n",
    "list1 = ['Physics','Maths',2000,2004]\n",
    "list1"
   ]
  },
  {
   "cell_type": "code",
   "execution_count": 89,
   "id": "890f21dd",
   "metadata": {},
   "outputs": [
    {
     "data": {
      "text/plain": [
       "[1, 2, 3, 4, 5]"
      ]
     },
     "execution_count": 89,
     "metadata": {},
     "output_type": "execute_result"
    }
   ],
   "source": [
    "list2 = [1,2,3,4,5]\n",
    "list2"
   ]
  },
  {
   "cell_type": "code",
   "execution_count": 105,
   "id": "7fb66818",
   "metadata": {},
   "outputs": [
    {
     "name": "stdout",
     "output_type": "stream",
     "text": [
      "[1, 2, 3, 4, 5, 6, 6, 8]\n"
     ]
    }
   ],
   "source": [
    "# Appending a value to th list\n",
    "list2.append(8)\n",
    "print(list2)"
   ]
  },
  {
   "cell_type": "code",
   "execution_count": 106,
   "id": "0e146b99",
   "metadata": {},
   "outputs": [
    {
     "name": "stdout",
     "output_type": "stream",
     "text": [
      "[1, 2, 3, 4, 5, 6, 8]\n"
     ]
    }
   ],
   "source": [
    "# Removing the element from a list\n",
    "list2.remove(6)\n",
    "print(list2)"
   ]
  },
  {
   "cell_type": "code",
   "execution_count": 107,
   "id": "2dd3bb50",
   "metadata": {},
   "outputs": [
    {
     "name": "stdout",
     "output_type": "stream",
     "text": [
      "[1, 2, 3, 4, 6, 8]\n"
     ]
    }
   ],
   "source": [
    "# Removing element at given index\n",
    "list2.pop(4)\n",
    "print(list2)"
   ]
  },
  {
   "cell_type": "code",
   "execution_count": 120,
   "id": "c7032acf",
   "metadata": {},
   "outputs": [
    {
     "name": "stdout",
     "output_type": "stream",
     "text": [
      "[1, 2, 3, 4, 6, 8, 3, 6, 5, 7, 6]\n"
     ]
    }
   ],
   "source": [
    "# Adding elements of one list to another list\n",
    "list4 = [3,6,5,7,6]\n",
    "list2.extend(list4)\n",
    "print(list2)"
   ]
  },
  {
   "cell_type": "code",
   "execution_count": 122,
   "id": "dc02b5b3",
   "metadata": {},
   "outputs": [
    {
     "name": "stdout",
     "output_type": "stream",
     "text": [
      "3\n"
     ]
    }
   ],
   "source": [
    "# Counting occurences of an element in a list\n",
    "count=list2.count(6)\n",
    "print(count)"
   ]
  },
  {
   "cell_type": "code",
   "execution_count": 126,
   "id": "152d2c05",
   "metadata": {},
   "outputs": [
    {
     "name": "stdout",
     "output_type": "stream",
     "text": [
      "[1, 2, 3, 3, 4, 5, 6, 6, 6, 7, 8]\n"
     ]
    }
   ],
   "source": [
    "# Sorting an element of a list\n",
    "list2.sort()\n",
    "print(list2)"
   ]
  },
  {
   "cell_type": "code",
   "execution_count": 129,
   "id": "0f0ac4e2",
   "metadata": {},
   "outputs": [
    {
     "name": "stdout",
     "output_type": "stream",
     "text": [
      "[8, 7, 6, 6, 6, 5, 4, 3, 3, 2, 1]\n"
     ]
    }
   ],
   "source": [
    "# Reversing a list\n",
    "list2.reverse()\n",
    "print(list2)"
   ]
  },
  {
   "cell_type": "code",
   "execution_count": 130,
   "id": "c8a44f3d",
   "metadata": {},
   "outputs": [
    {
     "name": "stdout",
     "output_type": "stream",
     "text": [
      "11\n"
     ]
    }
   ],
   "source": [
    "# Returning length of the list\n",
    "print(len(list2)"
   ]
  },
  {
   "cell_type": "code",
   "execution_count": 88,
   "id": "6b5259b2",
   "metadata": {},
   "outputs": [
    {
     "data": {
      "text/plain": [
       "['hello', 'world', 'learn', 'python']"
      ]
     },
     "execution_count": 88,
     "metadata": {},
     "output_type": "execute_result"
    }
   ],
   "source": [
    "list3 = ['hello','world','learn','python']\n",
    "list3"
   ]
  },
  {
   "cell_type": "code",
   "execution_count": 104,
   "id": "9302f397",
   "metadata": {},
   "outputs": [
    {
     "data": {
      "text/plain": [
       "['hello', 'world', 'lets', 'learn', 'python']"
      ]
     },
     "execution_count": 104,
     "metadata": {},
     "output_type": "execute_result"
    }
   ],
   "source": [
    "# Inserting a value at a particular index position\n",
    "list3.insert(2,'lets')\n",
    "list3"
   ]
  },
  {
   "cell_type": "code",
   "execution_count": 103,
   "id": "d5185751",
   "metadata": {},
   "outputs": [
    {
     "name": "stdout",
     "output_type": "stream",
     "text": [
      "['hello', 'world', 'learn', 'python']\n"
     ]
    }
   ],
   "source": [
    "# Removing a value at a particular index position\n",
    "list3.remove('lets')\n",
    "print(list3)"
   ]
  },
  {
   "cell_type": "markdown",
   "id": "c1c4e5ae",
   "metadata": {},
   "source": [
    "# Sets"
   ]
  },
  {
   "cell_type": "code",
   "execution_count": null,
   "id": "a8ab5124",
   "metadata": {},
   "outputs": [],
   "source": [
    "set1 = {6,5,70,45,3,6,34,2,36,2}\n",
    "set1"
   ]
  },
  {
   "cell_type": "code",
   "execution_count": 96,
   "id": "43f3ade7",
   "metadata": {},
   "outputs": [
    {
     "data": {
      "text/plain": [
       "{2, 89, 'hello'}"
      ]
     },
     "execution_count": 96,
     "metadata": {},
     "output_type": "execute_result"
    }
   ],
   "source": [
    "set2 = {2,'hello',89}\n",
    "set2"
   ]
  },
  {
   "cell_type": "markdown",
   "id": "9d4b0661",
   "metadata": {},
   "source": [
    "# Tuples"
   ]
  },
  {
   "cell_type": "code",
   "execution_count": 22,
   "id": "50d323db",
   "metadata": {},
   "outputs": [
    {
     "data": {
      "text/plain": [
       "(2, 3, 4, 5, 6)"
      ]
     },
     "execution_count": 22,
     "metadata": {},
     "output_type": "execute_result"
    }
   ],
   "source": [
    "# Tuple Examples\n",
    "tuple = 2,3,4,5,6\n",
    "tuple"
   ]
  },
  {
   "cell_type": "code",
   "execution_count": 23,
   "id": "02bb6ca6",
   "metadata": {},
   "outputs": [
    {
     "data": {
      "text/plain": [
       "(3, 4, 5, 8, 9)"
      ]
     },
     "execution_count": 23,
     "metadata": {},
     "output_type": "execute_result"
    }
   ],
   "source": [
    "tuple1 = (3,4,5,8,9)\n",
    "tuple1"
   ]
  },
  {
   "cell_type": "code",
   "execution_count": 25,
   "id": "7d7367db",
   "metadata": {},
   "outputs": [
    {
     "data": {
      "text/plain": [
       "('abc', 3, 56.8, 'h')"
      ]
     },
     "execution_count": 25,
     "metadata": {},
     "output_type": "execute_result"
    }
   ],
   "source": [
    "tuple3 = ('abc',3,56.8,'h')\n",
    "tuple3"
   ]
  },
  {
   "cell_type": "markdown",
   "id": "8eef42b7",
   "metadata": {},
   "source": [
    "# Tuple Functions"
   ]
  },
  {
   "cell_type": "code",
   "execution_count": 132,
   "id": "1e2e8612",
   "metadata": {},
   "outputs": [
    {
     "name": "stdout",
     "output_type": "stream",
     "text": [
      "5\n"
     ]
    }
   ],
   "source": [
    "# Returning length of the tuple\n",
    "l = len(tuple1)\n",
    "print(l)"
   ]
  },
  {
   "cell_type": "code",
   "execution_count": 133,
   "id": "f5d95f2b",
   "metadata": {},
   "outputs": [
    {
     "name": "stdout",
     "output_type": "stream",
     "text": [
      "9\n"
     ]
    }
   ],
   "source": [
    "# Returning largest element\n",
    "print(max(tuple1))"
   ]
  },
  {
   "cell_type": "code",
   "execution_count": 134,
   "id": "9945f190",
   "metadata": {},
   "outputs": [
    {
     "name": "stdout",
     "output_type": "stream",
     "text": [
      "3\n"
     ]
    }
   ],
   "source": [
    "#Returning smallest element\n",
    "print(min(tuple1))"
   ]
  },
  {
   "cell_type": "code",
   "execution_count": 145,
   "id": "75485855",
   "metadata": {},
   "outputs": [
    {
     "name": "stdout",
     "output_type": "stream",
     "text": [
      "3\n"
     ]
    }
   ],
   "source": [
    "# Returning index of a value\n",
    "print(tuple1.index(8))"
   ]
  },
  {
   "cell_type": "markdown",
   "id": "c2984032",
   "metadata": {},
   "source": [
    "# Strings"
   ]
  },
  {
   "cell_type": "code",
   "execution_count": 42,
   "id": "5e89c113",
   "metadata": {},
   "outputs": [
    {
     "data": {
      "text/plain": [
       "'Python'"
      ]
     },
     "execution_count": 42,
     "metadata": {},
     "output_type": "execute_result"
    }
   ],
   "source": [
    "#String Initialization\n",
    "string1 = 'Python'\n",
    "string1"
   ]
  },
  {
   "cell_type": "code",
   "execution_count": 48,
   "id": "b37da025",
   "metadata": {},
   "outputs": [
    {
     "name": "stdout",
     "output_type": "stream",
     "text": [
      "y\n",
      "h\n",
      "o\n",
      "n\n"
     ]
    }
   ],
   "source": [
    "# String Indexing\n",
    "print(string1[1])\n",
    "print(string1[3])\n",
    "print(string1[4])\n",
    "print(string1[5])"
   ]
  },
  {
   "cell_type": "code",
   "execution_count": 46,
   "id": "c4c436fc",
   "metadata": {},
   "outputs": [
    {
     "name": "stdout",
     "output_type": "stream",
     "text": [
      "P\n",
      "t\n",
      "o\n",
      "n\n"
     ]
    }
   ],
   "source": [
    "# Reverse Indexing of String\n",
    "print(string1[-6])\n",
    "print(string1[-4])\n",
    "print(string1[-2])\n",
    "print(string1[-1])"
   ]
  },
  {
   "cell_type": "code",
   "execution_count": 49,
   "id": "9bd0bf8e",
   "metadata": {},
   "outputs": [
    {
     "name": "stdout",
     "output_type": "stream",
     "text": [
      "P\n",
      "Py\n",
      "Pytho\n",
      "Pytho\n",
      "\n",
      "Python\n"
     ]
    }
   ],
   "source": [
    "# String Slicing\n",
    "print(string1[0:1])\n",
    "print(string1[0:2])\n",
    "print(string1[0:5])\n",
    "print(string1[-6:-1])\n",
    "print(string1[-1:-6])\n",
    "print(string1[-6:6])"
   ]
  },
  {
   "cell_type": "markdown",
   "id": "d3364f64",
   "metadata": {},
   "source": [
    "# String Functions"
   ]
  },
  {
   "cell_type": "code",
   "execution_count": 52,
   "id": "c11055d2",
   "metadata": {},
   "outputs": [
    {
     "data": {
      "text/plain": [
       "'PYTHON'"
      ]
     },
     "execution_count": 52,
     "metadata": {},
     "output_type": "execute_result"
    }
   ],
   "source": [
    "# String Functions\n",
    "string1 = 'python'\n",
    "string1.upper()"
   ]
  },
  {
   "cell_type": "code",
   "execution_count": 53,
   "id": "60c2c8db",
   "metadata": {},
   "outputs": [
    {
     "data": {
      "text/plain": [
       "'python'"
      ]
     },
     "execution_count": 53,
     "metadata": {},
     "output_type": "execute_result"
    }
   ],
   "source": [
    "string1.lower()"
   ]
  },
  {
   "cell_type": "code",
   "execution_count": 54,
   "id": "d905c610",
   "metadata": {},
   "outputs": [
    {
     "data": {
      "text/plain": [
       "True"
      ]
     },
     "execution_count": 54,
     "metadata": {},
     "output_type": "execute_result"
    }
   ],
   "source": [
    "string1.islower()"
   ]
  },
  {
   "cell_type": "code",
   "execution_count": 55,
   "id": "3cb3d203",
   "metadata": {},
   "outputs": [
    {
     "data": {
      "text/plain": [
       "False"
      ]
     },
     "execution_count": 55,
     "metadata": {},
     "output_type": "execute_result"
    }
   ],
   "source": [
    "string1.isupper()"
   ]
  },
  {
   "cell_type": "code",
   "execution_count": 56,
   "id": "bffcf83e",
   "metadata": {},
   "outputs": [
    {
     "name": "stdout",
     "output_type": "stream",
     "text": [
      "True\n"
     ]
    }
   ],
   "source": [
    "# String with numeric data\n",
    "string1 = '23475'\n",
    "print(string1.isnumeric())"
   ]
  },
  {
   "cell_type": "code",
   "execution_count": 58,
   "id": "f67bf054",
   "metadata": {},
   "outputs": [
    {
     "name": "stdout",
     "output_type": "stream",
     "text": [
      "True\n"
     ]
    }
   ],
   "source": [
    "string1 = 'apples'\n",
    "print(string1.isalpha())"
   ]
  },
  {
   "cell_type": "code",
   "execution_count": 60,
   "id": "f9b287fb",
   "metadata": {},
   "outputs": [
    {
     "name": "stdout",
     "output_type": "stream",
     "text": [
      "True\n"
     ]
    }
   ],
   "source": [
    "# String with alpha numeric data\n",
    "string1 = '2apples'\n",
    "print(string1.isalnum())"
   ]
  },
  {
   "cell_type": "code",
   "execution_count": 61,
   "id": "ff4b34fb",
   "metadata": {},
   "outputs": [
    {
     "data": {
      "text/plain": [
       "True"
      ]
     },
     "execution_count": 61,
     "metadata": {},
     "output_type": "execute_result"
    }
   ],
   "source": [
    "string1 = \" \"\n",
    "string1.isspace()"
   ]
  },
  {
   "cell_type": "code",
   "execution_count": 62,
   "id": "2495e3d5",
   "metadata": {},
   "outputs": [
    {
     "data": {
      "text/plain": [
       "6"
      ]
     },
     "execution_count": 62,
     "metadata": {},
     "output_type": "execute_result"
    }
   ],
   "source": [
    "string1 = 'python'\n",
    "len(string1)"
   ]
  },
  {
   "cell_type": "code",
   "execution_count": 63,
   "id": "c7556282",
   "metadata": {},
   "outputs": [
    {
     "data": {
      "text/plain": [
       "False"
      ]
     },
     "execution_count": 63,
     "metadata": {},
     "output_type": "execute_result"
    }
   ],
   "source": [
    "string1.istitle()"
   ]
  },
  {
   "cell_type": "code",
   "execution_count": 64,
   "id": "f5d6c817",
   "metadata": {},
   "outputs": [
    {
     "name": "stdout",
     "output_type": "stream",
     "text": [
      "True\n"
     ]
    }
   ],
   "source": [
    "book = 'Let Us Python'\n",
    "print(book.istitle())"
   ]
  },
  {
   "cell_type": "code",
   "execution_count": 67,
   "id": "6d281834",
   "metadata": {},
   "outputs": [
    {
     "name": "stdout",
     "output_type": "stream",
     "text": [
      "nohtyP\n"
     ]
    }
   ],
   "source": [
    "# Reversing a String\n",
    "string1 = 'Python'\n",
    "print(string1[::-1])"
   ]
  },
  {
   "cell_type": "code",
   "execution_count": 69,
   "id": "73ab31d0",
   "metadata": {},
   "outputs": [
    {
     "data": {
      "text/plain": [
       "'Python'"
      ]
     },
     "execution_count": 69,
     "metadata": {},
     "output_type": "execute_result"
    }
   ],
   "source": [
    "string1[::1]"
   ]
  },
  {
   "cell_type": "code",
   "execution_count": 83,
   "id": "d8b61fc3",
   "metadata": {},
   "outputs": [
    {
     "data": {
      "text/plain": [
       "'PythonPythonPython'"
      ]
     },
     "execution_count": 83,
     "metadata": {},
     "output_type": "execute_result"
    }
   ],
   "source": [
    "# String Multiplication\n",
    "string1 * 3"
   ]
  },
  {
   "cell_type": "code",
   "execution_count": 84,
   "id": "150589de",
   "metadata": {},
   "outputs": [
    {
     "data": {
      "text/plain": [
       "'Python Python Python Python '"
      ]
     },
     "execution_count": 84,
     "metadata": {},
     "output_type": "execute_result"
    }
   ],
   "source": [
    "'Python ' * 4"
   ]
  },
  {
   "cell_type": "code",
   "execution_count": 86,
   "id": "53d3dac1",
   "metadata": {},
   "outputs": [
    {
     "name": "stdout",
     "output_type": "stream",
     "text": [
      "WillSmith\n"
     ]
    }
   ],
   "source": [
    "# String Concatenation\n",
    "fst_name = 'Will'\n",
    "last_name = 'Smith'\n",
    "name = fst_name + last_name\n",
    "print(name)"
   ]
  },
  {
   "cell_type": "code",
   "execution_count": 87,
   "id": "4b2d856a",
   "metadata": {},
   "outputs": [
    {
     "name": "stdout",
     "output_type": "stream",
     "text": [
      "Will Smith\n"
     ]
    }
   ],
   "source": [
    "name = fst_name + ' ' + last_name\n",
    "print(name)"
   ]
  },
  {
   "cell_type": "markdown",
   "id": "32eb6a55",
   "metadata": {},
   "source": [
    "# Functions"
   ]
  },
  {
   "cell_type": "code",
   "execution_count": 39,
   "id": "81cd8f30",
   "metadata": {},
   "outputs": [
    {
     "name": "stdout",
     "output_type": "stream",
     "text": [
      "Enter first number :45\n",
      "Enter second number :65\n",
      "110\n"
     ]
    }
   ],
   "source": [
    "# Adding 2 numbers using functions\n",
    "def sum(a,b):    # Defining a function\n",
    "    sum = a+b\n",
    "    return sum  # Return Statement\n",
    "num1=int(input('Enter first number :'))\n",
    "num2=int(input('Enter second number :'))\n",
    "result = sum(num1,num2)\n",
    "print(result)"
   ]
  },
  {
   "cell_type": "code",
   "execution_count": 40,
   "id": "1e09e614",
   "metadata": {},
   "outputs": [
    {
     "name": "stdout",
     "output_type": "stream",
     "text": [
      "Enter first number :56\n",
      "Enter second number :2\n",
      "112\n"
     ]
    }
   ],
   "source": [
    "# Multiplication 2 numbers using functions\n",
    "def multiply(a,b):    # Defining a function\n",
    "    mul = a*b\n",
    "    return mul  # Return Statement\n",
    "num1=int(input('Enter first number :'))\n",
    "num2=int(input('Enter second number :'))\n",
    "result = multiply(num1,num2)\n",
    "print(result)"
   ]
  },
  {
   "cell_type": "code",
   "execution_count": null,
   "id": "1a7d86ad",
   "metadata": {},
   "outputs": [],
   "source": []
  }
 ],
 "metadata": {
  "kernelspec": {
   "display_name": "Python 3 (ipykernel)",
   "language": "python",
   "name": "python3"
  },
  "language_info": {
   "codemirror_mode": {
    "name": "ipython",
    "version": 3
   },
   "file_extension": ".py",
   "mimetype": "text/x-python",
   "name": "python",
   "nbconvert_exporter": "python",
   "pygments_lexer": "ipython3",
   "version": "3.9.7"
  }
 },
 "nbformat": 4,
 "nbformat_minor": 5
}
